{
  "nbformat": 4,
  "nbformat_minor": 0,
  "metadata": {
    "colab": {
      "provenance": []
    },
    "kernelspec": {
      "name": "python3",
      "display_name": "Python 3"
    },
    "language_info": {
      "name": "python"
    }
  },
  "cells": [
    {
      "cell_type": "code",
      "execution_count": 1,
      "metadata": {
        "colab": {
          "base_uri": "https://localhost:8080/"
        },
        "id": "Jj8vLTTS3ULu",
        "outputId": "42c811a8-3e43-42bb-e2ce-1cb79380fa8a"
      },
      "outputs": [
        {
          "output_type": "stream",
          "name": "stdout",
          "text": [
            "Looking in indexes: https://pypi.org/simple, https://us-python.pkg.dev/colab-wheels/public/simple/\n",
            "Requirement already satisfied: requests in /usr/local/lib/python3.8/dist-packages (2.23.0)\n",
            "Requirement already satisfied: chardet<4,>=3.0.2 in /usr/local/lib/python3.8/dist-packages (from requests) (3.0.4)\n",
            "Requirement already satisfied: certifi>=2017.4.17 in /usr/local/lib/python3.8/dist-packages (from requests) (2022.12.7)\n",
            "Requirement already satisfied: urllib3!=1.25.0,!=1.25.1,<1.26,>=1.21.1 in /usr/local/lib/python3.8/dist-packages (from requests) (1.24.3)\n",
            "Requirement already satisfied: idna<3,>=2.5 in /usr/local/lib/python3.8/dist-packages (from requests) (2.10)\n"
          ]
        }
      ],
      "source": [
        "!pip install requests"
      ]
    },
    {
      "cell_type": "markdown",
      "source": [
        "1. Посмотреть документацию к API GitHub, разобраться как вывести список репозиториев для конкретного пользователя, сохранить JSON-вывод в файле *.json.\n"
      ],
      "metadata": {
        "id": "eNax3jpctVVv"
      }
    },
    {
      "cell_type": "code",
      "source": [
        "import requests\n",
        "from pprint import pprint\n",
        "import json"
      ],
      "metadata": {
        "id": "XmMvBmxqNikH"
      },
      "execution_count": 2,
      "outputs": []
    },
    {
      "cell_type": "code",
      "source": [
        "url = 'https://api.github.com'\n",
        "user='YSamoy'\n",
        "req=requests.get(f'{url}/users/{user}/repos')\n"
      ],
      "metadata": {
        "id": "mRcPwAmFHcGh"
      },
      "execution_count": 3,
      "outputs": []
    },
    {
      "cell_type": "code",
      "source": [
        "with open('github_json', 'w', encoding='UTF-8') as f:\n",
        "  json.dump(req.json(), f)"
      ],
      "metadata": {
        "id": "qUpyXKDzN11N"
      },
      "execution_count": 4,
      "outputs": []
    },
    {
      "cell_type": "code",
      "source": [
        "my_repos=req.json()\n",
        "for elements in my_repos:\n",
        "  print(elements['name'])"
      ],
      "metadata": {
        "colab": {
          "base_uri": "https://localhost:8080/"
        },
        "id": "X7k_oaGDvDsP",
        "outputId": "dd16cd5d-fccc-4cc0-88aa-c15177b636d0"
      },
      "execution_count": 5,
      "outputs": [
        {
          "output_type": "stream",
          "name": "stdout",
          "text": [
            "data-parsing\n",
            "mySQL\n",
            "Numpy-Matplotlib-Scikit-learn\n",
            "python\n"
          ]
        }
      ]
    },
    {
      "cell_type": "code",
      "source": [
        "my_repos=req.json()\n",
        "for x, y  in enumerate(my_repos):\n",
        "  print(f\"{x+1}) {y.get('name')}\")"
      ],
      "metadata": {
        "colab": {
          "base_uri": "https://localhost:8080/"
        },
        "id": "PIwkLiycOtEi",
        "outputId": "6928e502-9299-4653-af4e-5293fcd656ff"
      },
      "execution_count": 6,
      "outputs": [
        {
          "output_type": "stream",
          "name": "stdout",
          "text": [
            "1) data-parsing\n",
            "2) mySQL\n",
            "3) Numpy-Matplotlib-Scikit-learn\n",
            "4) python\n"
          ]
        }
      ]
    }
  ]
}