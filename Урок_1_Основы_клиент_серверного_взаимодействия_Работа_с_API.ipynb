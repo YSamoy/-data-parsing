{
  "nbformat": 4,
  "nbformat_minor": 0,
  "metadata": {
    "colab": {
      "provenance": []
    },
    "kernelspec": {
      "name": "python3",
      "display_name": "Python 3"
    },
    "language_info": {
      "name": "python"
    }
  },
  "cells": [
    {
      "cell_type": "code",
      "execution_count": null,
      "metadata": {
        "colab": {
          "base_uri": "https://localhost:8080/"
        },
        "id": "Jj8vLTTS3ULu",
        "outputId": "42c811a8-3e43-42bb-e2ce-1cb79380fa8a"
      },
      "outputs": [
        {
          "output_type": "stream",
          "name": "stdout",
          "text": [
            "Looking in indexes: https://pypi.org/simple, https://us-python.pkg.dev/colab-wheels/public/simple/\n",
            "Requirement already satisfied: requests in /usr/local/lib/python3.8/dist-packages (2.23.0)\n",
            "Requirement already satisfied: chardet<4,>=3.0.2 in /usr/local/lib/python3.8/dist-packages (from requests) (3.0.4)\n",
            "Requirement already satisfied: certifi>=2017.4.17 in /usr/local/lib/python3.8/dist-packages (from requests) (2022.12.7)\n",
            "Requirement already satisfied: urllib3!=1.25.0,!=1.25.1,<1.26,>=1.21.1 in /usr/local/lib/python3.8/dist-packages (from requests) (1.24.3)\n",
            "Requirement already satisfied: idna<3,>=2.5 in /usr/local/lib/python3.8/dist-packages (from requests) (2.10)\n"
          ]
        }
      ],
      "source": [
        "!pip install requests"
      ]
    },
    {
      "cell_type": "markdown",
      "source": [
        "1. Посмотреть документацию к API GitHub, разобраться как вывести список репозиториев для конкретного пользователя, сохранить JSON-вывод в файле *.json.\n"
      ],
      "metadata": {
        "id": "eNax3jpctVVv"
      }
    },
    {
      "cell_type": "code",
      "source": [
        "import requests\n",
        "from pprint import pprint\n",
        "import json"
      ],
      "metadata": {
        "id": "XmMvBmxqNikH"
      },
      "execution_count": 1,
      "outputs": []
    },
    {
      "cell_type": "code",
      "source": [
        "url = 'https://api.github.com'\n",
        "user='YSamoy'\n",
        "req=requests.get(f'{url}/users/{user}/repos')\n"
      ],
      "metadata": {
        "id": "mRcPwAmFHcGh"
      },
      "execution_count": null,
      "outputs": []
    },
    {
      "cell_type": "code",
      "source": [
        "with open('github_json', 'w', encoding='UTF-8') as f:\n",
        "  json.dump(req.json(), f)"
      ],
      "metadata": {
        "id": "qUpyXKDzN11N"
      },
      "execution_count": null,
      "outputs": []
    },
    {
      "cell_type": "code",
      "source": [
        "my_repos=req.json()\n",
        "for elements in my_repos:\n",
        "  print(elements['name'])"
      ],
      "metadata": {
        "colab": {
          "base_uri": "https://localhost:8080/"
        },
        "id": "X7k_oaGDvDsP",
        "outputId": "dd16cd5d-fccc-4cc0-88aa-c15177b636d0"
      },
      "execution_count": null,
      "outputs": [
        {
          "output_type": "stream",
          "name": "stdout",
          "text": [
            "data-parsing\n",
            "mySQL\n",
            "Numpy-Matplotlib-Scikit-learn\n",
            "python\n"
          ]
        }
      ]
    },
    {
      "cell_type": "code",
      "source": [
        "my_repos=req.json()\n",
        "for x, y  in enumerate(my_repos):\n",
        "  print(f\"{x+1}) {y.get('name')}\")"
      ],
      "metadata": {
        "colab": {
          "base_uri": "https://localhost:8080/"
        },
        "id": "PIwkLiycOtEi",
        "outputId": "6928e502-9299-4653-af4e-5293fcd656ff"
      },
      "execution_count": null,
      "outputs": [
        {
          "output_type": "stream",
          "name": "stdout",
          "text": [
            "1) data-parsing\n",
            "2) mySQL\n",
            "3) Numpy-Matplotlib-Scikit-learn\n",
            "4) python\n"
          ]
        }
      ]
    },
    {
      "cell_type": "markdown",
      "source": [
        "2. Изучить список открытых API (https://www.programmableweb.com/category/all/apis). Найти среди них любое, требующее авторизацию (любого типа). Выполнить запросы к нему, пройдя авторизацию. Ответ сервера записать в файл."
      ],
      "metadata": {
        "id": "SI_sJwzHeKK_"
      }
    },
    {
      "cell_type": "code",
      "source": [
        "url_nasa=\"https://api.nasa.gov/planetary/apod\"\n",
        "\n",
        "headers={\n",
        "    \"User_Agent\": \"Mozilla/5.0 (Windows NT 10.0; Win64; x64) AppleWebKit/537.36 (KHTML, like Gecko) Chrome/108.0.0.0 Safari/537.36\"\n",
        "    \n",
        "}\n",
        "params={\n",
        "    \"count\":4,\n",
        "    \"api_key\": \"X31evUcc6fnJkW9Twn1W94bkQgTJ8SFATxtxVKFW\"\n",
        "    \n",
        "}"
      ],
      "metadata": {
        "id": "QZ6QH1UuePoa"
      },
      "execution_count": 2,
      "outputs": []
    },
    {
      "cell_type": "code",
      "source": [
        "response=requests.get(url_nasa, headers=headers, params=params)\n",
        "response.json()"
      ],
      "metadata": {
        "colab": {
          "base_uri": "https://localhost:8080/"
        },
        "id": "UNu6tQOHefCy",
        "outputId": "422dc276-3606-44b2-f3fb-cf3a10a14179"
      },
      "execution_count": 17,
      "outputs": [
        {
          "output_type": "execute_result",
          "data": {
            "text/plain": [
              "[{'copyright': 'Gerardo Ferrarino',\n",
              "  'date': '2022-09-10',\n",
              "  'explanation': \"This 180 degree panoramic night skyscape captures our Milky Way Galaxy as it arcs above the horizon on a winter's night in August. Near midnight, the galactic center is close to the zenith with the clear waters of Lake Traful, Neuquen, Argentina, South America, planet Earth below. Zodiacal light, dust reflected sunlight along the Solar System's ecliptic plane, is also visible in the region's very dark night sky. The faint band of light reaches up from the distant snowy peaks toward the galaxy's center. Follow the arc of the Milky Way to the left to find the southern hemisphere stellar beacons Alpha and Beta Centauri. Close to the horizon bright star Vega is reflected in the calm mountain lake.\",\n",
              "  'hdurl': 'https://apod.nasa.gov/apod/image/2209/Traful-Lake.jpg',\n",
              "  'media_type': 'image',\n",
              "  'service_version': 'v1',\n",
              "  'title': 'Galaxy by the Lake',\n",
              "  'url': 'https://apod.nasa.gov/apod/image/2209/Traful-Lake1024.jpg'},\n",
              " {'date': '2011-04-14',\n",
              "  'explanation': \"Dust clouds and embedded newborn stars glow at infrared wavelengths in this tantalizing false-color composition from WISE, the Wide-field Infrared Survey Explorer. The cosmic canvas features one of the closest star forming regions, part of the Rho Ophiuchi cloud complex some 400 light-years distant near the southern edge of the pronounceable constellation Ophiuchus. After forming along a large cloud of cold molecular hydrogen gas, young stars heat the surrounding dust to produce the infrared glow. Stars in the process of formation, called young stellar objects or YSOs, are embedded in the compact pinkish nebulae seen here, but are otherwise hidden from the prying eyes of optical telescopes. An exploration of the region in penetrating infrared light has detected emerging and newly formed stars whose average age is estimated to be a mere 300,000 years. That's extremely young compared to the Sun's age of 5 billion years. The prominent reddish nebula at the lower right surrounding the star Sigma Scorpii is a reflection nebula produced by dust scattering starlight. This view from WISE spans almost 2 degrees and covers about 14 light-years at the estimated distance of the Rho Ophiuchi cloud.\",\n",
              "  'hdurl': 'https://apod.nasa.gov/apod/image/1104/RhoOph_wise.jpg',\n",
              "  'media_type': 'image',\n",
              "  'service_version': 'v1',\n",
              "  'title': 'Young Stars in the Rho Ophiuchi Cloud',\n",
              "  'url': 'https://apod.nasa.gov/apod/image/1104/RhoOph_wise900c.jpg'},\n",
              " {'copyright': 'Eddie Guscott',\n",
              "  'date': '2009-04-09',\n",
              "  'explanation': \"This remarkable picture of a slender crescent Venus was made during daylight hours on March 26. Venus was then very near inferior conjunction, its closest approach to a point on a line directly between Earth and the Sun. So, daylight was a good time to carefully record the telescopic view when both Venus and Sun were high in the daytime sky. Near inferior conjunction, Venus is closest to us and at its largest apparent size, but Venus is also strongly backlit by sunlight, presenting its night side partially outlined by a narrow crescent. What makes the image remarkable are the faint arcs extending beyond the sunlit crescent around to the night side of Venus, due to sunlight filtering through the planet's dense atmosphere. Astronomer Eddie Guscott reports from his site in Essex, England that the faint extensions came and went as the Earth's atmospheric blurring changed. His image was constructed from 85 of the sharpest frames chosen from thousands taken with a webcam and telescope.   digg_url = 'http://apod.nasa.gov/apod/ap090409.html'; digg_skin = 'compact';\",\n",
              "  'hdurl': 'https://apod.nasa.gov/apod/image/0904/venus26march2009-4-FINAL-1.jpg',\n",
              "  'media_type': 'image',\n",
              "  'service_version': 'v1',\n",
              "  'title': 'Venus Near Inferior Conjunction',\n",
              "  'url': 'https://apod.nasa.gov/apod/image/0904/venus26march2009-4-FINAL-1_550.jpg'},\n",
              " {'date': '2001-03-21',\n",
              "  'explanation': \"NGC 2903 is a spiral galaxy similar to our own Milky Way Galaxy.  Similarities include its general size and a central bar.  One striking difference, however, is the appearance of mysterious hot spots in NGC 2903's core.  Upon inspection of the above image and similar images taken by the Hubble Space Telescope, these hot spots were found to be bright young globular clusters, in contrast to the uniformly old globular clusters found in our Milky Way Galaxy.  Further investigation has indicated that current star formation is most rampant in a 2000 light-year wide circumnuclear ring surrounding NGC 2903's center.  Astronomers hypothesize that the gravity of the central bar expedites star formation in this ring.  NGC 2903 lies about 25 million light-years away and is visible with a small telescope towards the constellation of Leo.\",\n",
              "  'hdurl': 'https://apod.nasa.gov/apod/image/0103/ngc2903_hst_big.jpg',\n",
              "  'media_type': 'image',\n",
              "  'service_version': 'v1',\n",
              "  'title': 'Barred Spiral Galaxy NGC 2903',\n",
              "  'url': 'https://apod.nasa.gov/apod/image/0103/ngc2903_hst.jpg'}]"
            ]
          },
          "metadata": {},
          "execution_count": 17
        }
      ]
    },
    {
      "cell_type": "code",
      "source": [
        "from matplotlib import pyplot as plt\n",
        "objects = response.json()\n",
        "\n",
        "for obj in objects:\n",
        "  print(f\"look at {obj['title']} here: {obj['url']}\")\n",
        " \n",
        "\n"
      ],
      "metadata": {
        "colab": {
          "base_uri": "https://localhost:8080/"
        },
        "id": "gGPaV890hWfu",
        "outputId": "f5dad086-7c85-4ccd-8c12-4aaacb33b921"
      },
      "execution_count": 40,
      "outputs": [
        {
          "output_type": "stream",
          "name": "stdout",
          "text": [
            "look at Galaxy by the Lake here: https://apod.nasa.gov/apod/image/2209/Traful-Lake1024.jpg\n",
            "look at Young Stars in the Rho Ophiuchi Cloud here: https://apod.nasa.gov/apod/image/1104/RhoOph_wise900c.jpg\n",
            "look at Venus Near Inferior Conjunction here: https://apod.nasa.gov/apod/image/0904/venus26march2009-4-FINAL-1_550.jpg\n",
            "look at Barred Spiral Galaxy NGC 2903 here: https://apod.nasa.gov/apod/image/0103/ngc2903_hst.jpg\n"
          ]
        }
      ]
    }
  ]
}