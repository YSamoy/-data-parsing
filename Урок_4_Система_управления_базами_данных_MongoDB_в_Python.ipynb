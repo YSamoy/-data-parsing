{
  "nbformat": 4,
  "nbformat_minor": 0,
  "metadata": {
    "colab": {
      "provenance": []
    },
    "kernelspec": {
      "name": "python3",
      "display_name": "Python 3"
    },
    "language_info": {
      "name": "python"
    }
  },
  "cells": [
    {
      "cell_type": "code",
      "source": [
        "!apt install mongodb"
      ],
      "metadata": {
        "colab": {
          "base_uri": "https://localhost:8080/"
        },
        "id": "t-VLZBp-Gy1_",
        "outputId": "b949b1cd-f654-4e69-a600-cdf42ee98ea1"
      },
      "execution_count": 1,
      "outputs": [
        {
          "output_type": "stream",
          "name": "stdout",
          "text": [
            "Reading package lists... Done\n",
            "Building dependency tree       \n",
            "Reading state information... Done\n",
            "mongodb is already the newest version (1:3.6.3-0ubuntu1.4).\n",
            "The following package was automatically installed and is no longer required:\n",
            "  libnvidia-common-460\n",
            "Use 'apt autoremove' to remove it.\n",
            "0 upgraded, 0 newly installed, 0 to remove and 21 not upgraded.\n"
          ]
        }
      ]
    },
    {
      "cell_type": "code",
      "source": [
        "!service mongodb start"
      ],
      "metadata": {
        "colab": {
          "base_uri": "https://localhost:8080/"
        },
        "id": "U_T9Exp3G6xm",
        "outputId": "8e317e40-b415-44c5-85f5-2e7f874a9ea4"
      },
      "execution_count": 2,
      "outputs": [
        {
          "output_type": "stream",
          "name": "stdout",
          "text": [
            " * Starting database mongodb\n",
            "   ...done.\n"
          ]
        }
      ]
    },
    {
      "cell_type": "code",
      "source": [
        "!pip install pymongo\n"
      ],
      "metadata": {
        "colab": {
          "base_uri": "https://localhost:8080/"
        },
        "id": "KKOTz_mIHQ5l",
        "outputId": "92f08548-82d0-4f02-8888-7ca9d9a3748d"
      },
      "execution_count": 3,
      "outputs": [
        {
          "output_type": "stream",
          "name": "stdout",
          "text": [
            "Looking in indexes: https://pypi.org/simple, https://us-python.pkg.dev/colab-wheels/public/simple/\n",
            "Requirement already satisfied: pymongo in /usr/local/lib/python3.8/dist-packages (4.3.3)\n",
            "Requirement already satisfied: dnspython<3.0.0,>=1.16.0 in /usr/local/lib/python3.8/dist-packages (from pymongo) (2.2.1)\n"
          ]
        }
      ]
    },
    {
      "cell_type": "code",
      "source": [
        "from pymongo import MongoClient\n",
        "from bs4 import BeautifulSoup as bs\n",
        "import requests\n",
        "from time import  sleep\n",
        "import json"
      ],
      "metadata": {
        "id": "4CVXS5WTHbVv"
      },
      "execution_count": 4,
      "outputs": []
    },
    {
      "cell_type": "code",
      "source": [
        "url_hh = 'https://novosibirsk.hh.ru/search/vacancy?text=python&from=suggest_post&area=4&hhtmFrom=vacancy_search_list'\n",
        "\n",
        "headers={\n",
        "    'User-Agent':\t'Mozilla/5.0 (Windows NT 10.0; Win64; x64) AppleWebKit/537.36 (KHTML, like Gecko) Chrome/108.0.0.0 Safari/537.36',\n",
        "}\n",
        "def hh_parsing():\n",
        "  vacancy_list_hh=[]\n",
        "  for page in range(200):\n",
        "    sleep(3) \n",
        "    url=url_hh+f'&page={page}'\n",
        "    response_hh=requests.get(url, headers=headers)\n",
        "    dom_hh = bs(response_hh.content, 'html.parser')\n",
        "    vacancies=dom_hh.find_all('div', {'class': 'vacancy-serp-item-body__main-info'})\n",
        "\n",
        "    vacancy_list=[]\n",
        "    for vacancy in vacancies:  \n",
        "      vacancy_name=vacancy.find('a', {'class': 'serp-item__title'}).text\n",
        "      vacancy_link=vacancy.find('a', {'class': 'serp-item__title'})['href']\n",
        "      vacancy_salary=vacancy.find('span', {'class': 'bloko-header-section-3'})\n",
        "      vacancy_employee=vacancy.find('a', {'class': 'bloko-link bloko-link_kind-tertiary'}).text.replace('\\xa0', '')\n",
        "      \n",
        "      if vacancy_salary:\n",
        "        vacancy_salary=vacancy_salary.text.replace('\\u202f', '').split(' ')       \n",
        "        for elements in vacancy_salary:\n",
        "          if len(vacancy_salary)==4:\n",
        "            salary_min=vacancy_salary[0]\n",
        "            salary_max=vacancy_salary[2]\n",
        "            salary_currency=vacancy_salary[-1]\n",
        "          elif len(vacancy_salary)==3:\n",
        "            salary_min=vacancy_salary[1]\n",
        "            salary_currency=vacancy_salary[-1]\n",
        "      else:\n",
        "        salary_min, salary_max, salary_currency=None, None, None\n",
        "\n",
        "\n",
        "      vacancy_dict={\n",
        "          'vacancy_name': vacancy_name,\n",
        "          'vacancy_link': vacancy_link,\n",
        "          'salary_min': salary_min,\n",
        "          'salary_max': salary_max,\n",
        "          'salary_currency': salary_currency,\n",
        "          'vacancy_employee': vacancy_employee,\n",
        "          'resource': 'novosibirsk.hh.ru',\n",
        "    \n",
        "      }\n",
        "      vacancy_list.append(vacancy_dict)\n",
        "    \n",
        "    if len(vacancy_list)>1:\n",
        "      vacancy_list_hh.append(vacancy_list)\n",
        "    else:\n",
        "      return vacancy_list_hh\n",
        "    \n",
        "\n",
        "just_parsed_vacancies=hh_parsing()"
      ],
      "metadata": {
        "id": "3aNs-cLdEQeT"
      },
      "execution_count": 5,
      "outputs": []
    },
    {
      "cell_type": "code",
      "source": [
        "def number_of_just_parsed_vacansies(lists_of_just_parsed_vacancies):\n",
        "  \n",
        "  number_of_just_parsed_vacansies=0\n",
        "  for lists in just_parsed_vacancies:\n",
        "    for vacancies in lists:\n",
        "      number_of_just_parsed_vacansies+=1\n",
        "  return number_of_just_parsed_vacansies\n",
        "\n",
        "number_of_just_parsed_vacansies(just_parsed_vacancies)\n",
        "  "
      ],
      "metadata": {
        "colab": {
          "base_uri": "https://localhost:8080/"
        },
        "id": "dyVgULqoFUeu",
        "outputId": "4a486e9a-d010-4605-bb9f-c4a249449b5c"
      },
      "execution_count": 6,
      "outputs": [
        {
          "output_type": "execute_result",
          "data": {
            "text/plain": [
              "100"
            ]
          },
          "metadata": {},
          "execution_count": 6
        }
      ]
    },
    {
      "cell_type": "code",
      "source": [
        "vacancy_list_hh='/content/vacancy_list_hh.json'\n",
        "\n",
        "with open(vacancy_list_hh) as f:\n",
        "    vacancy_hh = json.load(f)\n",
        "\n",
        "client=MongoClient()\n",
        "db=client.vacancy_hh\n",
        "\n",
        "for listst_from_vacancy_hh in vacancy_hh:\n",
        "  db.vacancy_hh.insert_many(listst_from_vacancy_hh)\n",
        "\n",
        "downloaded_number_of_vacancies=len(list(db.vacancy_hh.find()))\n",
        "downloaded_number_of_vacancies"
      ],
      "metadata": {
        "colab": {
          "base_uri": "https://localhost:8080/"
        },
        "id": "E9Jsb9NGHxEo",
        "outputId": "c10e18fc-5999-4144-8007-aab572e10fb9"
      },
      "execution_count": 7,
      "outputs": [
        {
          "output_type": "execute_result",
          "data": {
            "text/plain": [
              "200"
            ]
          },
          "metadata": {},
          "execution_count": 7
        }
      ]
    },
    {
      "cell_type": "code",
      "source": [
        "def check_and_update_db(list_vacancies_need_to_chek_and_add_to_db):\n",
        "  for list_vacancies in list_vacancies_need_to_chek_and_add_to_db:\n",
        "    for vacancies in list_vacancies:\n",
        "      if not db.vacancy_hh.find({'vacancy_link': vacancies['vacancy_link'], 'vacancy_employee': vacancies['vacancy_employee']}):\n",
        "        db.vacancy_hh.insert_one(vacancies)\n",
        "      \n",
        "\n",
        "check_and_update_db(just_parsed_vacancies)"
      ],
      "metadata": {
        "id": "1C7Kn7lfD1ss"
      },
      "execution_count": 8,
      "outputs": []
    },
    {
      "cell_type": "code",
      "source": [
        "def how_much_vacancies_added_into_db():\n",
        "  return len(list(db.vacancy_hh.find()))-downloaded_number_of_vacancies"
      ],
      "metadata": {
        "id": "mPyohJnNLbXW"
      },
      "execution_count": 9,
      "outputs": []
    },
    {
      "cell_type": "code",
      "source": [
        "print(f'There was added {how_much_vacancies_added_into_db()} new vacancies')"
      ],
      "metadata": {
        "colab": {
          "base_uri": "https://localhost:8080/"
        },
        "id": "tSsAKi7-Nxjd",
        "outputId": "41b876ce-3f76-47e8-bddd-03752070acc8"
      },
      "execution_count": 10,
      "outputs": [
        {
          "output_type": "stream",
          "name": "stdout",
          "text": [
            "There was added 0 new vacancies\n"
          ]
        }
      ]
    }
  ]
}